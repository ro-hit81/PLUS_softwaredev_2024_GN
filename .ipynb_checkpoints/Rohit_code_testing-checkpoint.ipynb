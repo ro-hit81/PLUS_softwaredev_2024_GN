{
 "cells": [
  {
   "cell_type": "code",
   "execution_count": 1,
   "id": "a457c0ca",
   "metadata": {},
   "outputs": [],
   "source": [
    "import random"
   ]
  },
  {
   "cell_type": "code",
   "execution_count": 2,
   "id": "006fc8a5",
   "metadata": {},
   "outputs": [],
   "source": [
    "quotations = [\n",
    "    'Winter is coming !!!!', \n",
    "    'A Lannister always pays his debts.',\n",
    "    \"Chaos isn't a pit. Chaos is a ladder.\",\n",
    "    'The night is dark and full of terrors.',\n",
    "    'When you play the game of thrones, you win or you die.'\n",
    "]\n",
    "\n",
    "disliked_food = ['Capsicum', 'Bitter Gourd', 'Brussels sprout', 'Celery', 'Beetroot']\n",
    "\n",
    "recommendations = {\n",
    "    'Manifest': \"Manifest is about a plane that disappears and then mysteriously reappears, diving into the lives of its passengers as they uncover strange secrets.\",\n",
    "    \n",
    "    'Game of Thrones': \"Game of Thrones is a fantasy series with lots of drama, politics, and cool stuff like dragons and knights. It's got a ton of surprises and twists.\",\n",
    "    \n",
    "    'Friends': \"Friends is a funny show about a group of friends living in New York City. It's all about their adventures, relationships, and everyday life.\",\n",
    "    \n",
    "    'Dark': \"Dark is a thrilling show from Germany about time travel, mysterious disappearances, and families with a lot of secrets. It's super intense and makes you think.\",\n",
    "    \n",
    "    'Alice in Borderland': \"Alice in Borderland is a suspenseful series where people find themselves in a weird world full of dangerous games. It's like a crazy adventure with lots of surprises.\"\n",
    "}\n",
    "\n",
    "deutch = 'Dankeschön'"
   ]
  },
  {
   "cell_type": "code",
   "execution_count": 3,
   "id": "3fdfe746",
   "metadata": {},
   "outputs": [],
   "source": [
    "def bold(text):\n",
    "    return f\"\\033[1m{text}\\033[0m\"  "
   ]
  },
  {
   "cell_type": "code",
   "execution_count": 4,
   "id": "022bf05c",
   "metadata": {},
   "outputs": [],
   "source": [
    "def know_me():\n",
    "    print('Hello Friend, here are some of secrets about me !!! \\n')\n",
    "    \n",
    "    favorite_quotation = random.choice(quotations)\n",
    "    my_disliked_food = random.choice(disliked_food)\n",
    "    favorite_series = random.choice(list(recommendations.keys()))\n",
    "    \n",
    "    print(f'• My favorite quotation from Game of Thrones series is: {bold(favorite_quotation)} \\n')\n",
    "    print(f'• I really dont like eating {bold(my_disliked_food)}.\\n')\n",
    "    print(f'• My favorite TV series is {bold(favorite_series)}, and here are the details about it:')\n",
    "    print(f'  - {recommendations[favorite_series]} \\n')\n",
    "\n",
    "    print(f'• You should really know the German word {bold(deutch)}, which means Thank you !!!')  "
   ]
  },
  {
   "cell_type": "code",
   "execution_count": 5,
   "id": "7601e880",
   "metadata": {},
   "outputs": [
    {
     "name": "stdout",
     "output_type": "stream",
     "text": [
      "Hello Friend, here are some of secrets about me !!! \n",
      "\n",
      "• My favorite quotation from Game of Thrones series is: \u001b[1mWhen you play the game of thrones, you win or you die.\u001b[0m \n",
      "\n",
      "• I really dont like eating \u001b[1mBeetroot\u001b[0m.\n",
      "\n",
      "• My favorite TV series is \u001b[1mFriends\u001b[0m, and here are the details about it:\n",
      "  - Friends is a funny show about a group of friends living in New York City. It's all about their adventures, relationships, and everyday life. \n",
      "\n",
      "• You should really know the German word \u001b[1mDankeschön\u001b[0m, which means Thank you !!!\n"
     ]
    }
   ],
   "source": [
    "know_me()"
   ]
  }
 ],
 "metadata": {
  "kernelspec": {
   "display_name": "Python 3 (ipykernel)",
   "language": "python",
   "name": "python3"
  },
  "language_info": {
   "codemirror_mode": {
    "name": "ipython",
    "version": 3
   },
   "file_extension": ".py",
   "mimetype": "text/x-python",
   "name": "python",
   "nbconvert_exporter": "python",
   "pygments_lexer": "ipython3",
   "version": "3.11.4"
  }
 },
 "nbformat": 4,
 "nbformat_minor": 5
}
